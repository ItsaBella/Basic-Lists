{
 "cells": [
  {
   "cell_type": "markdown",
   "metadata": {
    "colab_type": "text",
    "id": "BEQtdLADyxjl"
   },
   "source": [
    "# Basic list exercises\n",
    "This notebook is a quick check-in to see how you are progressing on learning Python.  You will be required to complete 5\n",
    "functions based on the descriptions.\n",
    "\n",
    "Please download this file to your local machine and upload and submit when you are finished. You will receive feedback on your results immediately. Good luck!"
   ]
  },
  {
   "cell_type": "markdown",
   "metadata": {},
   "source": [
    "## 0. match_ends\n",
    "Given a list of strings, return the count of the number of strings where the string length is 2 or more and the first and last chars of the string are the same.\n",
    "Note: python does not have a ++ operator, but += works."
   ]
  },
  {
   "cell_type": "code",
   "execution_count": 1,
   "metadata": {},
   "outputs": [],
   "source": [
    "def match_ends(words):\n",
    "    count = 0                                      # declare variable count as 0\n",
    "    for word in words:                             # for every word in words\n",
    "        if word[0] == word[-1] and len(word)>=2:   # if your the first letter of your word matches the last word and the lenght of your word is more than or equal to 2\n",
    "            count += 1                             # increment count by 1\n",
    "    return count "
   ]
  },
  {
   "cell_type": "markdown",
   "metadata": {},
   "source": [
    "**Ensure that your method passes the following assertions (against which it will be tested):**"
   ]
  },
  {
   "cell_type": "code",
   "execution_count": 2,
   "metadata": {},
   "outputs": [
    {
     "data": {
      "text/plain": [
       "True"
      ]
     },
     "execution_count": 2,
     "metadata": {},
     "output_type": "execute_result"
    }
   ],
   "source": [
    "match_ends(['abcdea', 'abcxa']) == 2"
   ]
  },
  {
   "cell_type": "code",
   "execution_count": 3,
   "metadata": {},
   "outputs": [
    {
     "data": {
      "text/plain": [
       "True"
      ]
     },
     "execution_count": 3,
     "metadata": {},
     "output_type": "execute_result"
    }
   ],
   "source": [
    "match_ends(['tallest', 'lovely', 'julsfsj']) == 2"
   ]
  },
  {
   "cell_type": "code",
   "execution_count": 4,
   "metadata": {},
   "outputs": [
    {
     "data": {
      "text/plain": [
       "True"
      ]
     },
     "execution_count": 4,
     "metadata": {},
     "output_type": "execute_result"
    }
   ],
   "source": [
    "match_ends(['python', 'civic']) == 1"
   ]
  },
  {
   "cell_type": "code",
   "execution_count": 5,
   "metadata": {},
   "outputs": [
    {
     "data": {
      "text/plain": [
       "True"
      ]
     },
     "execution_count": 5,
     "metadata": {},
     "output_type": "execute_result"
    }
   ],
   "source": [
    "match_ends(['ww', 'tt', 'sn', 'bt', 'tt']) == 3"
   ]
  },
  {
   "cell_type": "markdown",
   "metadata": {},
   "source": [
    "## 1. front_x\n",
    "Given a list of lowercasestrings, return a list with the strings in sorted in alphabetical order, except group all the strings that begin with `'x'` at he beginning of the list.<br>\n",
    "e.g. ['mix', 'xyz', 'apple', 'xanadu', 'aardvark'] yields<br>\n",
    "`['xanadu', 'xyz', 'aardvark', 'apple', 'mix']`<br>\n",
    "\n",
    "Hint: this can be done by making 2 lists and sorting each of them before combining them.\n",
    "\n",
    "Hint: Remember that Python's `list` object has a `sort()` function. Python also has a built-in function called `sorted()`. "
   ]
  },
  {
   "cell_type": "code",
   "execution_count": 6,
   "metadata": {},
   "outputs": [],
   "source": [
    "def front_x(words):\n",
    "    list1 = []                            # declare your fist empty list\n",
    "    list2 = []                            # declare your second empty list\n",
    "    for i in sorted(words):               # loop through items that are sorted words\n",
    "        if i[0] == 'x':                   # if the first element of an item is equal to x\n",
    "            list1.append(i)               # add that item to list1\n",
    "        else:\n",
    "            list2.append(i)               # otherwise add it to list2\n",
    "    list1.extend(list2)                   # add list1 and list2 together\n",
    "    return list1"
   ]
  },
  {
   "cell_type": "code",
   "execution_count": 7,
   "metadata": {},
   "outputs": [
    {
     "data": {
      "text/plain": [
       "True"
      ]
     },
     "execution_count": 7,
     "metadata": {},
     "output_type": "execute_result"
    }
   ],
   "source": [
    "front_x(['mix', 'xyz', 'apple', 'xanadu', 'aardvark']) == ['xanadu', 'xyz', 'aardvark', 'apple', 'mix']"
   ]
  },
  {
   "cell_type": "code",
   "execution_count": 8,
   "metadata": {},
   "outputs": [
    {
     "data": {
      "text/plain": [
       "True"
      ]
     },
     "execution_count": 8,
     "metadata": {},
     "output_type": "execute_result"
    }
   ],
   "source": [
    "front_x(['netowrk', 'artist', 'xamarian', 'king', 'cat']) == ['xamarian', 'artist', 'cat', 'king', 'netowrk'] "
   ]
  },
  {
   "cell_type": "code",
   "execution_count": 9,
   "metadata": {},
   "outputs": [
    {
     "data": {
      "text/plain": [
       "True"
      ]
     },
     "execution_count": 9,
     "metadata": {},
     "output_type": "execute_result"
    }
   ],
   "source": [
    "front_x(['jhsdfi', 'jeiri', 'iopqwu', 'bhvaiau', 'loaks']) == ['bhvaiau', 'iopqwu', 'jeiri', 'jhsdfi', 'loaks']"
   ]
  },
  {
   "cell_type": "markdown",
   "metadata": {},
   "source": [
    "## 2. sort_last\n",
    "Given a list of non-empty tuples, return a list of the same tuples, in increasing order of the last item in each tuple<br>\n",
    "e.g. [(1, 7), (1, 3), (3, 4, 5), (2, 2)] yields<br>\n",
    "`[(2, 2), (1, 3), (3, 4, 5), (1, 7)]`<br>\n",
    "\n",
    "**EXPLANATION:** because the tuple with the smallest last item is `(2,2)`, and the next smallest is `(1,3)`, and the next smallest is `(3, 4, 5)` and the next smallest is `(1, 7)`.\n",
    "\n",
    "**NOTE:** For this challenge, The last item will always be unique. i.e. we will not provide input that has two of the same value in the last item \n",
    "\n",
    "e.g. `[(1,2) , (49, 2)]`\n",
    "\n",
    "A hint if you are stuck, but a challenge if you solved it some other way: use a [custom Key Function](https://wiki.python.org/moin/HowTo/Sorting#Key_Functions) to extract the last element form each tuple. "
   ]
  },
  {
   "cell_type": "code",
   "execution_count": 10,
   "metadata": {},
   "outputs": [],
   "source": [
    "# you can use this code if you like! or the one below... they are basically the same thing.\n",
    "import operator\n",
    "\n",
    "def sort_last(tuples):\n",
    "    return sorted(tuples, key=operator.itemgetter(-1))"
   ]
  },
  {
   "cell_type": "code",
   "execution_count": 11,
   "metadata": {},
   "outputs": [],
   "source": [
    "# the following code also works\n",
    "def last(t):                              # start off by defining your key function\n",
    "    return t[-1]                          # that returns the last element of your tuple \n",
    "\n",
    "def sort_last(tuples):                    # now define a function that sorts tuples by their last elements\n",
    "    return sorted(tuples, key=last)       # and returns a list of the same tuples in increasing order of the last tuple"
   ]
  },
  {
   "cell_type": "code",
   "execution_count": 12,
   "metadata": {},
   "outputs": [
    {
     "data": {
      "text/plain": [
       "True"
      ]
     },
     "execution_count": 12,
     "metadata": {},
     "output_type": "execute_result"
    }
   ],
   "source": [
    "sort_last([(1, 7), (1, 3), (3, 4, 5), (2, 2)]) == [(2, 2), (1, 3), (3, 4, 5), (1, 7)]"
   ]
  },
  {
   "cell_type": "code",
   "execution_count": 13,
   "metadata": {},
   "outputs": [
    {
     "data": {
      "text/plain": [
       "True"
      ]
     },
     "execution_count": 13,
     "metadata": {},
     "output_type": "execute_result"
    }
   ],
   "source": [
    "sort_last([(3, 1, 9), (2, 6), (5, 7, 1)]) == [(5, 7, 1), (2, 6), (3, 1, 9)] "
   ]
  },
  {
   "cell_type": "code",
   "execution_count": 14,
   "metadata": {},
   "outputs": [
    {
     "data": {
      "text/plain": [
       "True"
      ]
     },
     "execution_count": 14,
     "metadata": {},
     "output_type": "execute_result"
    }
   ],
   "source": [
    "sort_last([(4, 2), (1, 0, 9), (2, 7), (1, 1, 0), (2, 4, 8)]) == [(1, 1, 0), (4, 2), (2, 7), (2, 4, 8), (1, 0, 9)]"
   ]
  },
  {
   "cell_type": "code",
   "execution_count": 15,
   "metadata": {},
   "outputs": [
    {
     "data": {
      "text/plain": [
       "True"
      ]
     },
     "execution_count": 15,
     "metadata": {},
     "output_type": "execute_result"
    }
   ],
   "source": [
    "sort_last([(51, 13), (71, 29), (55, 91, 9, 1), (23, 101, 0), (41,5)]) == [(23, 101, 0), (55, 91, 9, 1), (41, 5), (51, 13), (71, 29)]"
   ]
  },
  {
   "cell_type": "code",
   "execution_count": 16,
   "metadata": {},
   "outputs": [
    {
     "data": {
      "text/plain": [
       "True"
      ]
     },
     "execution_count": 16,
     "metadata": {},
     "output_type": "execute_result"
    }
   ],
   "source": [
    "sort_last([(39, -10, 2, 0), (57, -9)]) == [(57, -9), (39, -10, 2, 0)]"
   ]
  },
  {
   "cell_type": "markdown",
   "metadata": {},
   "source": [
    "## 3. Remove Adjacent \n",
    "Given a list of numbers, return a list where all equal elements reduce to a single element if they are adjacent (next to each other). Example `[1, 2, 2, 3]` returns `[1, 2, 3]`, and `[1,2,2,3,3,1]` returns `[1,2,3,1]` (The `1s` are not adjacent, so they both stay). You may create a new list or modify the passed in list."
   ]
  },
  {
   "cell_type": "code",
   "execution_count": 17,
   "metadata": {},
   "outputs": [],
   "source": [
    "def remove_adjacent(nums):\n",
    "    i = 1                              # declare variable i to be 1                                                                    \n",
    "    while i < len(nums):               # while your i is less than the length of your list of numbers in nums\n",
    "        if nums[i] == nums[i-1]:       # if an item in nums is equal to the item or items preceding it \n",
    "            del nums[i]                # delete that item\n",
    "            i = i - 1                  # then decrement your i\n",
    "        else:\n",
    "            i = i + 1                  # otherwise increment it\n",
    "    return nums"
   ]
  },
  {
   "cell_type": "code",
   "execution_count": 18,
   "metadata": {},
   "outputs": [
    {
     "data": {
      "text/plain": [
       "True"
      ]
     },
     "execution_count": 18,
     "metadata": {},
     "output_type": "execute_result"
    }
   ],
   "source": [
    "remove_adjacent([1, 2, 2, 3]) == [1, 2, 3]"
   ]
  },
  {
   "cell_type": "code",
   "execution_count": 19,
   "metadata": {},
   "outputs": [
    {
     "data": {
      "text/plain": [
       "True"
      ]
     },
     "execution_count": 19,
     "metadata": {},
     "output_type": "execute_result"
    }
   ],
   "source": [
    "remove_adjacent([1, 2, 2, 2, 3, 3]) == [1, 2, 3]"
   ]
  },
  {
   "cell_type": "code",
   "execution_count": 20,
   "metadata": {},
   "outputs": [
    {
     "data": {
      "text/plain": [
       "True"
      ]
     },
     "execution_count": 20,
     "metadata": {},
     "output_type": "execute_result"
    }
   ],
   "source": [
    "remove_adjacent([27, -5, 13, 13, 0]) == [27, -5, 13, 0]"
   ]
  },
  {
   "cell_type": "code",
   "execution_count": 21,
   "metadata": {},
   "outputs": [
    {
     "data": {
      "text/plain": [
       "True"
      ]
     },
     "execution_count": 21,
     "metadata": {},
     "output_type": "execute_result"
    }
   ],
   "source": [
    "remove_adjacent([1, 1, 1, 5, 5, 5, 9, 9, 13, 13, 5 ]) == [1, 5, 9, 13, 5]"
   ]
  },
  {
   "cell_type": "code",
   "execution_count": 22,
   "metadata": {},
   "outputs": [
    {
     "data": {
      "text/plain": [
       "True"
      ]
     },
     "execution_count": 22,
     "metadata": {},
     "output_type": "execute_result"
    }
   ],
   "source": [
    "remove_adjacent([9, 7, 14, 7, 7]) == [9, 7, 14, 7]"
   ]
  },
  {
   "cell_type": "code",
   "execution_count": 23,
   "metadata": {},
   "outputs": [
    {
     "name": "stdout",
     "output_type": "stream",
     "text": [
      "[1, 2, 3]\n"
     ]
    }
   ],
   "source": [
    "print(remove_adjacent([1, 2, 2, 3]))"
   ]
  },
  {
   "cell_type": "markdown",
   "metadata": {
    "colab_type": "text",
    "id": "OgRGlNbkyxkB"
   },
   "source": [
    "## 4. Linear Merge\n",
    "Given two lists sorted in increasing order, create and return a merged list of all the elements in sorted order. You may modify the passed in lists. <br>\n",
    "Ideally, the solution should work in \"linear\" time, making a single pass through each list. Please note that Python's sorting functions are slower that linear time."
   ]
  },
  {
   "cell_type": "code",
   "execution_count": 24,
   "metadata": {
    "colab": {
     "autoexec": {
      "startup": false,
      "wait_interval": 0
     }
    },
    "colab_type": "code",
    "id": "u3lkyypGyxkD",
    "nbgrader": {
     "grade": false,
     "grade_id": "linear_merge",
     "locked": false,
     "schema_version": 1,
     "solution": true
    }
   },
   "outputs": [],
   "source": [
    "'''So, knowing that comparing two characters is O(1), Python's sorted() \n",
    "function in this situation is O(nlogn) and thinking that merging two lists into a new one is O(k) \n",
    "where k the number of elements in list1 + list2, \n",
    "which seems quite \"linear\" in the sense of what was asked...\n",
    "'''\n",
    "\n",
    "def linear_merge(list1, list2):\n",
    "    return sorted(list1 + list2)"
   ]
  },
  {
   "cell_type": "code",
   "execution_count": 25,
   "metadata": {},
   "outputs": [
    {
     "data": {
      "text/plain": [
       "' In this solution, unforunately list.pop(0) is not constant time with the standard Python list implementation, \\n    so the above is not strictly linear time. An alternate approach uses pop(-1) to remove the endmost elements from each list, \\n    building a solution list which is backwards. \\n    Then use reversed() to put the result back in the correct order. \\n    That solution works in linear time, but is more ugly.'"
      ]
     },
     "execution_count": 25,
     "metadata": {},
     "output_type": "execute_result"
    }
   ],
   "source": [
    "# # the following code works but it is not linear\n",
    "# def linear_merge(list1, list2):\n",
    "#     k = []\n",
    "#     while len(list1) and len(list2):\n",
    "#         if list1[0] < list2[0]:                  # if the first element in list 1 is less than the first element in list 2\n",
    "#             k.append(list1.pop(0))               # remove the first item from list1 and add it to k\n",
    "#         else:\n",
    "#             k.append(list2.pop(0))              # otherwise remove the first item from list2 and add it to k\n",
    "#     k += list1                                  # add list1 to k\n",
    "#     k += list2                                  # add list2 to k (you do this to merge the lists together)\n",
    "#     return k\n",
    "\n",
    "''' In this solution, unforunately list.pop(0) is not constant time with the standard Python list implementation, \n",
    "    so the above is not strictly linear time. An alternate approach uses pop(-1) to remove the endmost elements from each list, \n",
    "    building a solution list which is backwards. \n",
    "    Then use reversed() to put the result back in the correct order. \n",
    "    That solution works in linear time, but is more ugly.'''"
   ]
  },
  {
   "cell_type": "code",
   "execution_count": 26,
   "metadata": {
    "colab": {
     "autoexec": {
      "startup": false,
      "wait_interval": 0
     },
     "output_extras": [
      {}
     ]
    },
    "colab_type": "code",
    "id": "yWECAuEGyxkF",
    "nbgrader": {
     "grade": true,
     "grade_id": "correct_linear_merge",
     "locked": true,
     "points": 2,
     "schema_version": 1,
     "solution": false
    },
    "outputId": "d36632f3-9567-4afe-a6a8-cb121666bb8b"
   },
   "outputs": [
    {
     "data": {
      "text/plain": [
       "True"
      ]
     },
     "execution_count": 26,
     "metadata": {},
     "output_type": "execute_result"
    }
   ],
   "source": [
    "linear_merge(['aa', 'xx', 'zz'], ['bb', 'cc']) == ['aa', 'bb', 'cc', 'xx', 'zz']"
   ]
  },
  {
   "cell_type": "code",
   "execution_count": 27,
   "metadata": {
    "colab": {
     "autoexec": {
      "startup": false,
      "wait_interval": 0
     },
     "output_extras": [
      {}
     ]
    },
    "colab_type": "code",
    "id": "yWECAuEGyxkF",
    "nbgrader": {
     "grade": true,
     "grade_id": "correct_linear_merge",
     "locked": true,
     "points": 2,
     "schema_version": 1,
     "solution": false
    },
    "outputId": "d36632f3-9567-4afe-a6a8-cb121666bb8b"
   },
   "outputs": [
    {
     "data": {
      "text/plain": [
       "True"
      ]
     },
     "execution_count": 27,
     "metadata": {},
     "output_type": "execute_result"
    }
   ],
   "source": [
    "linear_merge(['searching', 'sorting', 'van'], ['apple', 'small']) == ['apple', 'searching', 'small', 'sorting', 'van']"
   ]
  },
  {
   "cell_type": "code",
   "execution_count": 28,
   "metadata": {
    "colab": {
     "autoexec": {
      "startup": false,
      "wait_interval": 0
     },
     "output_extras": [
      {}
     ]
    },
    "colab_type": "code",
    "id": "yWECAuEGyxkF",
    "nbgrader": {
     "grade": true,
     "grade_id": "correct_linear_merge",
     "locked": true,
     "points": 2,
     "schema_version": 1,
     "solution": false
    },
    "outputId": "d36632f3-9567-4afe-a6a8-cb121666bb8b"
   },
   "outputs": [
    {
     "data": {
      "text/plain": [
       "True"
      ]
     },
     "execution_count": 28,
     "metadata": {},
     "output_type": "execute_result"
    }
   ],
   "source": [
    "linear_merge(['hello', 'world'], ['funny', 'giant', 'zoo']) == ['funny', 'giant', 'hello', 'world', 'zoo']"
   ]
  },
  {
   "cell_type": "code",
   "execution_count": 29,
   "metadata": {
    "colab": {
     "autoexec": {
      "startup": false,
      "wait_interval": 0
     },
     "output_extras": [
      {}
     ]
    },
    "colab_type": "code",
    "id": "yWECAuEGyxkF",
    "nbgrader": {
     "grade": true,
     "grade_id": "correct_linear_merge",
     "locked": true,
     "points": 2,
     "schema_version": 1,
     "solution": false
    },
    "outputId": "d36632f3-9567-4afe-a6a8-cb121666bb8b"
   },
   "outputs": [
    {
     "data": {
      "text/plain": [
       "True"
      ]
     },
     "execution_count": 29,
     "metadata": {},
     "output_type": "execute_result"
    }
   ],
   "source": [
    "linear_merge(['patch', 'tour', 'yak', 'zombie'], ['egg', 'stall']) == ['egg', 'patch', 'stall', 'tour', 'yak', 'zombie']"
   ]
  },
  {
   "cell_type": "code",
   "execution_count": 30,
   "metadata": {
    "colab": {
     "autoexec": {
      "startup": false,
      "wait_interval": 0
     },
     "output_extras": [
      {}
     ]
    },
    "colab_type": "code",
    "id": "yWECAuEGyxkF",
    "nbgrader": {
     "grade": true,
     "grade_id": "correct_linear_merge",
     "locked": true,
     "points": 2,
     "schema_version": 1,
     "solution": false
    },
    "outputId": "d36632f3-9567-4afe-a6a8-cb121666bb8b"
   },
   "outputs": [
    {
     "data": {
      "text/plain": [
       "True"
      ]
     },
     "execution_count": 30,
     "metadata": {},
     "output_type": "execute_result"
    }
   ],
   "source": [
    "linear_merge(['aab', 'aad', 'aaf'], ['aac', 'aae']) == ['aab', 'aac', 'aad', 'aae', 'aaf']"
   ]
  },
  {
   "cell_type": "code",
   "execution_count": 31,
   "metadata": {},
   "outputs": [
    {
     "name": "stdout",
     "output_type": "stream",
     "text": [
      "['aa', 'bb', 'cc', 'xx', 'zz']\n"
     ]
    }
   ],
   "source": [
    "print(linear_merge(['aa', 'xx', 'zz'], ['bb', 'cc']))"
   ]
  },
  {
   "cell_type": "markdown",
   "metadata": {
    "colab_type": "text",
    "id": "Vm13pjSjyxkI"
   },
   "source": [
    "# References"
   ]
  },
  {
   "cell_type": "markdown",
   "metadata": {
    "colab_type": "text",
    "id": "OxjO59-2yxkJ"
   },
   "source": [
    "This tutorial was created using the wonderful [Google Python Developers](https://developers.google.com/edu/python/) course, and has been modified under the [Creative Common's licence 2.5](https://creativecommons.org/licenses/by/2.5/) "
   ]
  },
  {
   "cell_type": "markdown",
   "metadata": {
    "colab_type": "text",
    "id": "Y5w2IupiyxkJ"
   },
   "source": [
    "Copyright 2010 Google Inc.\n",
    "Licensed under the Apache License, Version 2.0\n",
    "http://www.apache.org/licenses/LICENSE-2.0\n",
    "\n",
    "Google's Python Class\n",
    "http://code.google.com/edu/languages/google-python-class/"
   ]
  }
 ],
 "metadata": {
  "celltoolbar": "Create Assignment",
  "colab": {
   "collapsed_sections": [],
   "default_view": {},
   "name": "1b_Google_lists.ipynb",
   "provenance": [],
   "version": "0.3.2",
   "views": {}
  },
  "kernelspec": {
   "display_name": "Python 3",
   "language": "python",
   "name": "python3"
  },
  "language_info": {
   "codemirror_mode": {
    "name": "ipython",
    "version": 3
   },
   "file_extension": ".py",
   "mimetype": "text/x-python",
   "name": "python",
   "nbconvert_exporter": "python",
   "pygments_lexer": "ipython3",
   "version": "3.7.2"
  },
  "toc": {
   "base_numbering": 1,
   "nav_menu": {},
   "number_sections": true,
   "sideBar": true,
   "skip_h1_title": false,
   "title_cell": "Table of Contents",
   "title_sidebar": "Contents",
   "toc_cell": false,
   "toc_position": {
    "height": "calc(100% - 180px)",
    "left": "10px",
    "top": "150px",
    "width": "384px"
   },
   "toc_section_display": true,
   "toc_window_display": true
  }
 },
 "nbformat": 4,
 "nbformat_minor": 2
}
